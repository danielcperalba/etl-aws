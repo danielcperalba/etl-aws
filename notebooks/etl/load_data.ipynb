{
 "cells": [
  {
   "cell_type": "code",
   "execution_count": 10,
   "id": "31945dcd",
   "metadata": {},
   "outputs": [],
   "source": [
    "from pyspark.sql.types import DecimalType, IntegerType\n",
    "from pyspark.sql import SparkSession\n",
    "from pyspark.sql.functions import (col)\n"
   ]
  },
  {
   "cell_type": "code",
   "execution_count": 11,
   "id": "ffefd51d",
   "metadata": {},
   "outputs": [],
   "source": [
    "\n",
    "transformed_data_path = \"../../src/data/processed\"\n",
    "spark = SparkSession.builder.getOrCreate()\n",
    "df = spark.read.parquet(transformed_data_path)"
   ]
  },
  {
   "cell_type": "markdown",
   "id": "892dd6b6",
   "metadata": {},
   "source": [
    "### Forçando os tipos de dados"
   ]
  },
  {
   "cell_type": "code",
   "execution_count": 12,
   "id": "334a48fe",
   "metadata": {},
   "outputs": [],
   "source": [
    "df = df.select(\n",
    "    col(\"ano\").cast(IntegerType()),\n",
    "    col(\"mes\").cast(IntegerType()),\n",
    "    col(\"preco_medio_usd\").cast(DecimalType(5, 2)),\n",
    "    col(\"lag_1_mes_preco_medio_usd\").cast(DecimalType(5, 2)),\n",
    "    col(\"lag_2_meses_preco_medio_usd\").cast(DecimalType(5, 2)),\n",
    "    col(\"lag_3_meses_preco_medio_usd\").cast(DecimalType(5, 2)),\n",
    "    col(\"lag_4_meses_preco_medio_usd\").cast(DecimalType(5, 2)),\n",
    "    col(\"lag_5_meses_preco_medio_usd\").cast(DecimalType(5, 2)),\n",
    "    col(\"lag_6_meses_preco_medio_usd\").cast(DecimalType(5, 2)),\n",
    "    col(\"media_movel_6_meses_preco_medio_usd\").cast(DecimalType(5, 2)),\n",
    "    col(\"desvio_padrao_movel_6_meses_preco_medio_usd\").cast(DecimalType(5, 2)),\n",
    "    col(\"valor_minimo_6_meses_preco_medio_usd\").cast(DecimalType(5, 2)),\n",
    "    col(\"valor_maximo_6_meses_preco_medio_usd\").cast(DecimalType(5, 2)),\n",
    "    col(\"trimestre\").cast(IntegerType()),\n",
    ")"
   ]
  },
  {
   "cell_type": "markdown",
   "id": "7d3c03f4",
   "metadata": {},
   "source": [
    "### Persistindo os dados prontos para consumo"
   ]
  },
  {
   "cell_type": "code",
   "execution_count": 13,
   "id": "31d5f016",
   "metadata": {},
   "outputs": [],
   "source": [
    "final_data_path = \"../../src/data/final\"\n",
    "df.write.mode(\"overwrite\").parquet(final_data_path)"
   ]
  }
 ],
 "metadata": {
  "kernelspec": {
   "display_name": "venv",
   "language": "python",
   "name": "python3"
  },
  "language_info": {
   "codemirror_mode": {
    "name": "ipython",
    "version": 3
   },
   "file_extension": ".py",
   "mimetype": "text/x-python",
   "name": "python",
   "nbconvert_exporter": "python",
   "pygments_lexer": "ipython3",
   "version": "3.10.12"
  }
 },
 "nbformat": 4,
 "nbformat_minor": 5
}
